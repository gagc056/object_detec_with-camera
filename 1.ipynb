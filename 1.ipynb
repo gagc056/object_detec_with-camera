{
 "cells": [
  {
   "cell_type": "markdown",
   "id": "2ae7e00b",
   "metadata": {},
   "source": [
    "Import packagests"
   ]
  },
  {
   "cell_type": "code",
   "execution_count": null,
   "id": "88681e8d",
   "metadata": {},
   "outputs": [],
   "source": [
    "import torch \n",
    "import numpy as np \n",
    "from ultralytics import YOLO\n",
    "import cv2"
   ]
  },
  {
   "cell_type": "markdown",
   "id": "497c9eda",
   "metadata": {},
   "source": [
    "Load pretrained yolo model \n"
   ]
  },
  {
   "cell_type": "code",
   "execution_count": null,
   "id": "11bce97c",
   "metadata": {},
   "outputs": [],
   "source": [
    "model = torch.hub.load(\"ultralytics/yolov5\", \"yolov5s\", pretrained=True)"
   ]
  },
  {
   "cell_type": "code",
   "execution_count": null,
   "id": "974a3e9c",
   "metadata": {},
   "outputs": [],
   "source": [
    "def detect_from_cam():\n",
    "    cap = cv2.VideoCapture(0)  # Make sure that your camera is connected\n",
    "\n",
    "    if not cap.isOpened():\n",
    "        print(\"Error: You cannot open your camera.\")\n",
    "        return\n",
    "\n",
    "    while True:\n",
    "        ret, frame = cap.read()\n",
    "        if not ret:\n",
    "            print(\"Error: you cannot capture the frame.\")\n",
    "            break\n",
    "\n",
    "        results = model(frame) \n",
    "\n",
    "        # Convert into  OpenCV format\n",
    "        rendered_img = np.array(results.render()[0])\n",
    "\n",
    "        cv2.imshow(\"Webcam Detection\", rendered_img)\n",
    "\n",
    "        if cv2.waitKey(1) & 0xFF == ord('q'):\n",
    "            break\n",
    "\n",
    "    cap.release()\n",
    "    cv2.destroyAllWindows()"
   ]
  },
  {
   "cell_type": "markdown",
   "id": "f8a0e869",
   "metadata": {},
   "source": [
    "Detect from cam\n"
   ]
  },
  {
   "cell_type": "code",
   "execution_count": null,
   "id": "f3f7e5cd",
   "metadata": {},
   "outputs": [],
   "source": [
    "detect_from_cam()"
   ]
  }
 ],
 "metadata": {
  "kernelspec": {
   "display_name": "venv",
   "language": "python",
   "name": "python3"
  },
  "language_info": {
   "codemirror_mode": {
    "name": "ipython",
    "version": 3
   },
   "file_extension": ".py",
   "mimetype": "text/x-python",
   "name": "python",
   "nbconvert_exporter": "python",
   "pygments_lexer": "ipython3",
   "version": "3.12.7"
  }
 },
 "nbformat": 4,
 "nbformat_minor": 5
}
